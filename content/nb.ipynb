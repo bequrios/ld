{
 "cells": [
  {
   "cell_type": "markdown",
   "metadata": {},
   "source": [
    "# Install the required packages"
   ]
  },
  {
   "cell_type": "code",
   "execution_count": null,
   "metadata": {},
   "outputs": [],
   "source": [
    "%pip install -q ipywidgets==8.1.1 ipycytoscape networkx rdflib\n",
    "import rdflib\n",
    "import ipycytoscape as cy\n",
    "import networkx as nx\n",
    "import pandas as pd\n",
    "import requests\n",
    "from IPython.display import HTML\n",
    "import urllib3\n",
    "from ext.rdf import parse_and_plot, local_query, remote_query, display_result"
   ]
  },
  {
   "cell_type": "markdown",
   "metadata": {},
   "source": [
    "# Parse and Plot RDF Data"
   ]
  },
  {
   "cell_type": "code",
   "execution_count": null,
   "metadata": {},
   "outputs": [],
   "source": [
    "ttl_string = \"\"\"\n",
    "\n",
    "<https://example.com/KingCharles> <https://example.com/hasChild> <https://example.com/PrinceHarry> .\n",
    "<https://example.com/KingCharles> <https://example.com/isKingOf> <https://example.com/England> .\n",
    "<https://example.com/KingCharles> <https://example.com/hasMother> <https://example.com/QueenElizabeth> .\n",
    "\n",
    "\"\"\"\n",
    "\n",
    "plot = parse_and_plot(ttl_string)\n",
    "display(plot)"
   ]
  }
 ],
 "metadata": {
  "kernelspec": {
   "display_name": "ld",
   "language": "python",
   "name": "python3"
  },
  "language_info": {
   "codemirror_mode": {
    "name": "ipython",
    "version": 3
   },
   "file_extension": ".py",
   "mimetype": "text/x-python",
   "name": "python",
   "nbconvert_exporter": "python",
   "pygments_lexer": "ipython3",
   "version": "3.8.19"
  }
 },
 "nbformat": 4,
 "nbformat_minor": 2
}
