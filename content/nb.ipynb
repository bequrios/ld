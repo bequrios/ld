{
 "cells": [
  {
   "cell_type": "markdown",
   "metadata": {},
   "source": [
    "# Install the required packages"
   ]
  },
  {
   "cell_type": "code",
   "execution_count": 1,
   "metadata": {},
   "outputs": [
    {
     "name": "stderr",
     "output_type": "stream",
     "text": [
      "\n",
      "[notice] A new release of pip is available: 23.0.1 -> 24.2\n",
      "[notice] To update, run: python.exe -m pip install --upgrade pip\n"
     ]
    },
    {
     "name": "stdout",
     "output_type": "stream",
     "text": [
      "Note: you may need to restart the kernel to use updated packages.\n"
     ]
    }
   ],
   "source": [
    "%pip install -q ipywidgets ipycytoscape networkx rdflib\n",
    "from ext.rdf import parse_and_plot, local_query, remote_query, display_result"
   ]
  },
  {
   "cell_type": "markdown",
   "metadata": {},
   "source": [
    "# Parse and Plot RDF Data"
   ]
  },
  {
   "cell_type": "code",
   "execution_count": 2,
   "metadata": {},
   "outputs": [
    {
     "data": {
      "application/vnd.jupyter.widget-view+json": {
       "model_id": "11bd3f7d99404a3cb97362084a4ec662",
       "version_major": 2,
       "version_minor": 0
      },
      "text/plain": [
       "CytoscapeWidget(cytoscape_layout={'name': 'cola'}, cytoscape_style=[{'selector': 'node[node_type = \"URIRef\"]',…"
      ]
     },
     "metadata": {},
     "output_type": "display_data"
    }
   ],
   "source": [
    "ttl_string = \"\"\"\n",
    "\n",
    "<https://example.com/KingCharles> <https://example.com/hasChild> <https://example.com/PrinceHarry> .\n",
    "<https://example.com/KingCharles> <https://example.com/isKingOf> <https://example.com/England> .\n",
    "<https://example.com/KingCharles> <https://example.com/hasMother> <https://example.com/QueenElizabeth> .\n",
    "\n",
    "\"\"\"\n",
    "\n",
    "plot = parse_and_plot(ttl_string)\n",
    "display(plot)"
   ]
  }
 ],
 "metadata": {
  "kernelspec": {
   "display_name": "ld",
   "language": "python",
   "name": "python3"
  },
  "language_info": {
   "codemirror_mode": {
    "name": "ipython",
    "version": 3
   },
   "file_extension": ".py",
   "mimetype": "text/x-python",
   "name": "python",
   "nbconvert_exporter": "python",
   "pygments_lexer": "ipython3",
   "version": "3.8.19"
  }
 },
 "nbformat": 4,
 "nbformat_minor": 2
}
